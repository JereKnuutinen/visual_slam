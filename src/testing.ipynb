{
 "cells": [
  {
   "cell_type": "code",
   "execution_count": 3,
   "metadata": {},
   "outputs": [],
   "source": [
    "import numpy as np\n",
    "import cv2\n",
    "import time\n",
    "import os \n",
    "from pathlib import Path\n",
    "import re\n",
    "\n",
    "class FeatureExtractor:\n",
    "    def __init__(self):\n",
    "        self.extractor = cv2.ORB_create()\n",
    "    def compute_features(self, img):\n",
    "        kp, des = self.extractor.detectAndCompute(img,None)\n",
    "        return kp, des\n",
    "\n",
    "\n",
    "\n",
    "\n",
    "\n",
    "class Frame:\n",
    "    def __init__(self, rgb_fp, d_path, feature_extractor):\n",
    "        self.rgb = cv2.imread(rgb_fp)\n",
    "        self.depth = cv2.imread(d_path)\n",
    "        self.keypoints, self.features  = None, None\n",
    "        self.feature_extractor = feature_extractor\n",
    "    def process_frame(self):\n",
    "        self.keypoints, self.features = self.feature_extract(self.rgb)\n",
    "        return self.keypoints, self.features, self.rgb\n",
    "        \n",
    "    def feature_extract(self, rgb):\n",
    "        return self.feature_extractor.compute_features(rgb)\n",
    "        \n",
    "        \n",
    "\n",
    "\n",
    "      "
   ]
  },
  {
   "cell_type": "code",
   "execution_count": 8,
   "metadata": {},
   "outputs": [
    {
     "ename": "",
     "evalue": "",
     "output_type": "error",
     "traceback": [
      "\u001b[1;31mThe Kernel crashed while executing code in the the current cell or a previous cell. Please review the code in the cell(s) to identify a possible cause of the failure. Click <a href='https://aka.ms/vscodeJupyterKernelCrash'>here</a> for more info. View Jupyter <a href='command:jupyter.viewOutput'>log</a> for further details."
     ]
    }
   ],
   "source": [
    "dir_rgb = \"../data/ICL_NUIM/rgb/\"\n",
    "dir_depth = \"../data/ICL_NUIM/depth/\"\n",
    "\n",
    "feature_extractor = FeatureExtractor()\n",
    "\n",
    "for i in range(1,100):\n",
    "    fp_rgb = dir_rgb + str(i) + \".png\"\n",
    "    fp_depth = dir_depth + str(i) + \".png\"\n",
    "    frame = Frame(fp_rgb, fp_depth, feature_extractor)\n",
    "    kp, features, rgb = frame.process_frame()\n",
    "    img2 = cv2.drawKeypoints(rgb, kp, None, color=(0,255,0), flags=0)\n",
    "    cv2.imshow('a', img2)\n",
    "    cv2.waitKey(0)\n",
    "    \n"
   ]
  }
 ],
 "metadata": {
  "kernelspec": {
   "display_name": "Python 3.8.10 ('venv': venv)",
   "language": "python",
   "name": "python3"
  },
  "language_info": {
   "codemirror_mode": {
    "name": "ipython",
    "version": 3
   },
   "file_extension": ".py",
   "mimetype": "text/x-python",
   "name": "python",
   "nbconvert_exporter": "python",
   "pygments_lexer": "ipython3",
   "version": "3.8.10"
  },
  "orig_nbformat": 4,
  "vscode": {
   "interpreter": {
    "hash": "4e3256bb47a9a0005e38ffa68a9c5479a1950b0272581dfa4d7d4e2ef8ce54e9"
   }
  }
 },
 "nbformat": 4,
 "nbformat_minor": 2
}
