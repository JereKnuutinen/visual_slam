{
 "cells": [
  {
   "cell_type": "code",
   "execution_count": null,
   "metadata": {},
   "outputs": [],
   "source": [
    "from asyncio.windows_events import NULL\n",
    "from tkinter import image_names\n",
    "import cv2\n",
    "\n",
    "images\n",
    "\n",
    "for img in image:\n",
    "    frame = Frame(img, feature_extraction_method)\n",
    "    frame.processFrame\n",
    "\n",
    "\n",
    "class Frame:\n",
    "    def __init__(self,):\n",
    "         self.rgb = read_frame(fp)\n",
    "         cv2.\n",
    "         # + other sensor data\n",
    "         self.keypoints, self.features  = NULL\n",
    "    def process_frame(self):\n",
    "        self.keypoints, self.features = self.feature_ext(self.rgb)\n",
    "        img_draw(rgb)\n",
    "        \n",
    "         \n",
    "         "
   ]
  }
 ],
 "metadata": {
  "kernelspec": {
   "display_name": "Python 3.8.10 ('venv': venv)",
   "language": "python",
   "name": "python3"
  },
  "language_info": {
   "name": "python",
   "version": "3.8.10"
  },
  "orig_nbformat": 4,
  "vscode": {
   "interpreter": {
    "hash": "4e3256bb47a9a0005e38ffa68a9c5479a1950b0272581dfa4d7d4e2ef8ce54e9"
   }
  }
 },
 "nbformat": 4,
 "nbformat_minor": 2
}
